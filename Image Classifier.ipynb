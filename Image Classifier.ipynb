{
 "cells": [
  {
   "cell_type": "code",
   "execution_count": 1,
   "id": "81c2f346",
   "metadata": {},
   "outputs": [],
   "source": [
    "import numpy as np\n",
    "import pandas as pd\n",
    "%matplotlib inline\n",
    "import matplotlib as mpl\n",
    "import matplotlib.pyplot as plt"
   ]
  },
  {
   "cell_type": "code",
   "execution_count": 2,
   "id": "7fa54ec6",
   "metadata": {},
   "outputs": [],
   "source": [
    "import tensorflow as tf\n",
    "from tensorflow import keras"
   ]
  },
  {
   "cell_type": "code",
   "execution_count": 3,
   "id": "326b839a",
   "metadata": {},
   "outputs": [
    {
     "data": {
      "text/plain": [
       "'2.9.0'"
      ]
     },
     "execution_count": 3,
     "metadata": {},
     "output_type": "execute_result"
    }
   ],
   "source": [
    "keras.__version__"
   ]
  },
  {
   "cell_type": "code",
   "execution_count": 4,
   "id": "9cebe76b",
   "metadata": {},
   "outputs": [
    {
     "data": {
      "text/plain": [
       "'2.9.1'"
      ]
     },
     "execution_count": 4,
     "metadata": {},
     "output_type": "execute_result"
    }
   ],
   "source": [
    "tf.__version__"
   ]
  },
  {
   "cell_type": "code",
   "execution_count": 5,
   "id": "595be46c",
   "metadata": {},
   "outputs": [],
   "source": [
    "fashion_mnist=keras.datasets.fashion_mnist"
   ]
  },
  {
   "cell_type": "code",
   "execution_count": 6,
   "id": "58262197",
   "metadata": {},
   "outputs": [
    {
     "data": {
      "text/plain": [
       "<module 'keras.api._v2.keras.datasets.fashion_mnist' from 'C:\\\\Users\\\\banty_ewxe1fw\\\\AppData\\\\Roaming\\\\Python\\\\Python39\\\\site-packages\\\\keras\\\\api\\\\_v2\\\\keras\\\\datasets\\\\fashion_mnist\\\\__init__.py'>"
      ]
     },
     "execution_count": 6,
     "metadata": {},
     "output_type": "execute_result"
    }
   ],
   "source": [
    "fashion_mnist"
   ]
  },
  {
   "cell_type": "code",
   "execution_count": 7,
   "id": "0183b261",
   "metadata": {},
   "outputs": [],
   "source": [
    "fashion_mnist=keras.datasets.fashion_mnist\n",
    "(x_train_full,y_train_full),(x_test,y_test)=fashion_mnist.load_data()"
   ]
  },
  {
   "cell_type": "code",
   "execution_count": 8,
   "id": "0251521e",
   "metadata": {},
   "outputs": [
    {
     "data": {
      "text/plain": [
       "<matplotlib.image.AxesImage at 0x28a98411d60>"
      ]
     },
     "execution_count": 8,
     "metadata": {},
     "output_type": "execute_result"
    },
    {
     "data": {
      "image/png": "[encoded data removed]",
      "text/plain": [
       "<Figure size 432x288 with 1 Axes>"
      ]
     },
     "metadata": {
      "needs_background": "light"
     },
     "output_type": "display_data"
    }
   ],
   "source": [
    "plt.imshow(x_train_full[0])"
   ]
  },
  {
   "cell_type": "code",
   "execution_count": 9,
   "id": "92a40860",
   "metadata": {},
   "outputs": [
    {
     "data": {
      "text/plain": [
       "9"
      ]
     },
     "execution_count": 9,
     "metadata": {},
     "output_type": "execute_result"
    }
   ],
   "source": [
    "y_train_full[0]"
   ]
  },
  {
   "cell_type": "code",
   "execution_count": 10,
   "id": "184dd377",
   "metadata": {},
   "outputs": [],
   "source": [
    "class_names=[\"T-shirt/top\",\"Trouser\",\"Pullover\",\"Dress\",\"Coat\",\"Sandal\",\"shirt\",\"Sneaker\",\"Bag\",\"Ankle boot\"]"
   ]
  },
  {
   "cell_type": "code",
   "execution_count": 11,
   "id": "254ac567",
   "metadata": {},
   "outputs": [
    {
     "data": {
      "text/plain": [
       "'T-shirt/top'"
      ]
     },
     "execution_count": 11,
     "metadata": {},
     "output_type": "execute_result"
    }
   ],
   "source": [
    "class_names[y_train_full[1]]"
   ]
  },
  {
   "cell_type": "code",
   "execution_count": 12,
   "id": "7e950324",
   "metadata": {},
   "outputs": [
    {
     "data": {
      "text/plain": [
       "array([[  0,   0,   0,   0,   0,   1,   0,   0,   0,   0,  41, 188, 103,\n",
       "         54,  48,  43,  87, 168, 133,  16,   0,   0,   0,   0,   0,   0,\n",
       "          0,   0],\n",
       "       [  0,   0,   0,   1,   0,   0,   0,  49, 136, 219, 216, 228, 236,\n",
       "        255, 255, 255, 255, 217, 215, 254, 231, 160,  45,   0,   0,   0,\n",
       "          0,   0],\n",
       "       [  0,   0,   0,   0,   0,  14, 176, 222, 224, 212, 203, 198, 196,\n",
       "        200, 215, 204, 202, 201, 201, 201, 209, 218, 224, 164,   0,   0,\n",
       "          0,   0],\n",
       "       [  0,   0,   0,   0,   0, 188, 219, 200, 198, 202, 198, 199, 199,\n",
       "        201, 196, 198, 198, 200, 200, 200, 200, 201, 200, 225,  41,   0,\n",
       "          0,   0],\n",
       "       [  0,   0,   0,   0,  51, 219, 199, 203, 203, 212, 238, 248, 250,\n",
       "        245, 249, 246, 247, 252, 248, 235, 207, 203, 203, 222, 140,   0,\n",
       "          0,   0],\n",
       "       [  0,   0,   0,   0, 116, 226, 206, 204, 207, 204, 101,  75,  47,\n",
       "         73,  48,  50,  45,  51,  63, 113, 222, 202, 206, 220, 224,   0,\n",
       "          0,   0],\n",
       "       [  0,   0,   0,   0, 200, 222, 209, 203, 215, 200,   0,  70,  98,\n",
       "          0, 103,  59,  68,  71,  49,   0, 219, 206, 214, 210, 250,  38,\n",
       "          0,   0],\n",
       "       [  0,   0,   0,   0, 247, 218, 212, 210, 215, 214,   0, 254, 243,\n",
       "        139, 255, 174, 251, 255, 205,   0, 215, 217, 214, 208, 220,  95,\n",
       "          0,   0],\n",
       "       [  0,   0,   0,  45, 226, 214, 214, 215, 224, 205,   0,  42,  35,\n",
       "         60,  16,  17,  12,  13,  70,   0, 189, 216, 212, 206, 212, 156,\n",
       "          0,   0],\n",
       "       [  0,   0,   0, 164, 235, 214, 211, 220, 216, 201,  52,  71,  89,\n",
       "         94,  83,  78,  70,  76,  92,  87, 206, 207, 222, 213, 219, 208,\n",
       "          0,   0],\n",
       "       [  0,   0,   0, 106, 187, 223, 237, 248, 211, 198, 252, 250, 248,\n",
       "        245, 248, 252, 253, 250, 252, 239, 201, 212, 225, 215, 193, 113,\n",
       "          0,   0],\n",
       "       [  0,   0,   0,   0,   0,  17,  54, 159, 222, 193, 208, 192, 197,\n",
       "        200, 200, 200, 200, 201, 203, 195, 210, 165,   0,   0,   0,   0,\n",
       "          0,   0],\n",
       "       [  0,   0,   0,   0,   0,   0,   0,  47, 225, 192, 214, 203, 206,\n",
       "        204, 204, 205, 206, 204, 212, 197, 218, 107,   0,   0,   0,   0,\n",
       "          0,   0],\n",
       "       [  0,   0,   0,   0,   1,   6,   0,  46, 212, 195, 212, 202, 206,\n",
       "        205, 204, 205, 206, 204, 212, 200, 218,  91,   0,   3,   1,   0,\n",
       "          0,   0],\n",
       "       [  0,   0,   0,   0,   0,   1,   0,  11, 197, 199, 205, 202, 205,\n",
       "        206, 204, 205, 207, 204, 205, 205, 218,  77,   0,   5,   0,   0,\n",
       "          0,   0],\n",
       "       [  0,   0,   0,   0,   0,   3,   0,   2, 191, 198, 201, 205, 206,\n",
       "        205, 205, 206, 209, 206, 199, 209, 219,  74,   0,   5,   0,   0,\n",
       "          0,   0],\n",
       "       [  0,   0,   0,   0,   0,   2,   0,   0, 188, 197, 200, 207, 207,\n",
       "        204, 207, 207, 210, 208, 198, 207, 221,  72,   0,   4,   0,   0,\n",
       "          0,   0],\n",
       "       [  0,   0,   0,   0,   0,   2,   0,   0, 215, 198, 203, 206, 208,\n",
       "        205, 207, 207, 210, 208, 200, 202, 222,  75,   0,   4,   0,   0,\n",
       "          0,   0],\n",
       "       [  0,   0,   0,   0,   0,   1,   0,   0, 212, 198, 209, 206, 209,\n",
       "        206, 208, 207, 211, 206, 205, 198, 221,  80,   0,   3,   0,   0,\n",
       "          0,   0],\n",
       "       [  0,   0,   0,   0,   0,   1,   0,   0, 204, 201, 205, 208, 207,\n",
       "        205, 211, 205, 210, 210, 209, 195, 221,  96,   0,   3,   0,   0,\n",
       "          0,   0],\n",
       "       [  0,   0,   0,   0,   0,   1,   0,   0, 202, 201, 205, 209, 207,\n",
       "        205, 213, 206, 210, 209, 210, 194, 217, 105,   0,   2,   0,   0,\n",
       "          0,   0],\n",
       "       [  0,   0,   0,   0,   0,   1,   0,   0, 204, 204, 205, 208, 207,\n",
       "        205, 215, 207, 210, 208, 211, 193, 213, 115,   0,   2,   0,   0,\n",
       "          0,   0],\n",
       "       [  0,   0,   0,   0,   0,   0,   0,   0, 204, 207, 207, 208, 206,\n",
       "        206, 215, 210, 210, 207, 212, 195, 210, 118,   0,   2,   0,   0,\n",
       "          0,   0],\n",
       "       [  0,   0,   0,   0,   0,   1,   0,   0, 198, 208, 208, 208, 204,\n",
       "        207, 212, 212, 210, 207, 211, 196, 207, 121,   0,   1,   0,   0,\n",
       "          0,   0],\n",
       "       [  0,   0,   0,   0,   0,   1,   0,   0, 198, 210, 207, 208, 206,\n",
       "        209, 213, 212, 211, 207, 210, 197, 207, 124,   0,   1,   0,   0,\n",
       "          0,   0],\n",
       "       [  0,   0,   0,   0,   0,   0,   0,   0, 172, 210, 203, 201, 199,\n",
       "        204, 207, 205, 204, 201, 205, 197, 206, 127,   0,   0,   0,   0,\n",
       "          0,   0],\n",
       "       [  0,   0,   0,   0,   0,   0,   0,   0, 188, 221, 214, 234, 236,\n",
       "        238, 244, 244, 244, 240, 243, 214, 224, 162,   0,   2,   0,   0,\n",
       "          0,   0],\n",
       "       [  0,   0,   0,   0,   0,   1,   0,   0, 139, 146, 130, 135, 135,\n",
       "        137, 125, 124, 125, 121, 119, 114, 130,  76,   0,   0,   0,   0,\n",
       "          0,   0]], dtype=uint8)"
      ]
     },
     "execution_count": 12,
     "metadata": {},
     "output_type": "execute_result"
    }
   ],
   "source": [
    "x_train_full[1]"
   ]
  },
  {
   "cell_type": "markdown",
   "id": "f093cf5e",
   "metadata": {},
   "source": [
    "### Data normalization \n",
    "we then normalize teh data dimensitions so that they are of approximately the same scale"
   ]
  },
  {
   "cell_type": "code",
   "execution_count": 13,
   "id": "bc8b8dc7",
   "metadata": {},
   "outputs": [],
   "source": [
    "x_train_n=x_train_full/255.\n",
    "x_test_n=x_test/255."
   ]
  },
  {
   "cell_type": "markdown",
   "id": "7b3f360b",
   "metadata": {},
   "source": [
    "### Split the data into train/validation/test datasets"
   ]
  },
  {
   "cell_type": "code",
   "execution_count": 14,
   "id": "76828c80",
   "metadata": {},
   "outputs": [],
   "source": [
    "x_valid,x_train =x_train_n[:5000] , x_train_n[5000:]\n",
    "y_valid,y_train =y_train_full[:5000] , y_train_full[5000:]\n",
    "x_test = x_test_n"
   ]
  },
  {
   "cell_type": "code",
   "execution_count": 15,
   "id": "d39c6e8e",
   "metadata": {},
   "outputs": [
    {
     "data": {
      "text/plain": [
       "array([[0.        , 0.        , 0.        , 0.        , 0.        ,\n",
       "        0.        , 0.        , 0.        , 0.        , 0.        ,\n",
       "        0.        , 0.        , 0.        , 0.        , 0.        ,\n",
       "        0.        , 0.        , 0.        , 0.        , 0.        ,\n",
       "        0.        , 0.        , 0.        , 0.        , 0.        ,\n",
       "        0.        , 0.        , 0.        ],\n",
       "       [0.        , 0.        , 0.        , 0.        , 0.        ,\n",
       "        0.        , 0.        , 0.        , 0.        , 0.        ,\n",
       "        0.        , 0.        , 0.        , 0.        , 0.        ,\n",
       "        0.        , 0.        , 0.        , 0.        , 0.        ,\n",
       "        0.        , 0.        , 0.        , 0.        , 0.        ,\n",
       "        0.        , 0.        , 0.        ],\n",
       "       [0.        , 0.        , 0.        , 0.        , 0.        ,\n",
       "        0.        , 0.        , 0.        , 0.        , 0.        ,\n",
       "        0.        , 0.        , 0.        , 0.        , 0.        ,\n",
       "        0.        , 0.        , 0.        , 0.        , 0.        ,\n",
       "        0.        , 0.        , 0.        , 0.        , 0.        ,\n",
       "        0.        , 0.        , 0.        ],\n",
       "       [0.        , 0.        , 0.        , 0.        , 0.        ,\n",
       "        0.        , 0.        , 0.        , 0.        , 0.        ,\n",
       "        0.        , 0.        , 0.00392157, 0.        , 0.        ,\n",
       "        0.05098039, 0.28627451, 0.        , 0.        , 0.00392157,\n",
       "        0.01568627, 0.        , 0.        , 0.        , 0.        ,\n",
       "        0.00392157, 0.00392157, 0.        ],\n",
       "       [0.        , 0.        , 0.        , 0.        , 0.        ,\n",
       "        0.        , 0.        , 0.        , 0.        , 0.        ,\n",
       "        0.        , 0.        , 0.01176471, 0.        , 0.14117647,\n",
       "        0.53333333, 0.49803922, 0.24313725, 0.21176471, 0.        ,\n",
       "        0.        , 0.        , 0.00392157, 0.01176471, 0.01568627,\n",
       "        0.        , 0.        , 0.01176471],\n",
       "       [0.        , 0.        , 0.        , 0.        , 0.        ,\n",
       "        0.        , 0.        , 0.        , 0.        , 0.        ,\n",
       "        0.        , 0.        , 0.02352941, 0.        , 0.4       ,\n",
       "        0.8       , 0.69019608, 0.5254902 , 0.56470588, 0.48235294,\n",
       "        0.09019608, 0.        , 0.        , 0.        , 0.        ,\n",
       "        0.04705882, 0.03921569, 0.        ],\n",
       "       [0.        , 0.        , 0.        , 0.        , 0.        ,\n",
       "        0.        , 0.        , 0.        , 0.        , 0.        ,\n",
       "        0.        , 0.        , 0.        , 0.        , 0.60784314,\n",
       "        0.9254902 , 0.81176471, 0.69803922, 0.41960784, 0.61176471,\n",
       "        0.63137255, 0.42745098, 0.25098039, 0.09019608, 0.30196078,\n",
       "        0.50980392, 0.28235294, 0.05882353],\n",
       "       [0.        , 0.        , 0.        , 0.        , 0.        ,\n",
       "        0.        , 0.        , 0.        , 0.        , 0.        ,\n",
       "        0.        , 0.00392157, 0.        , 0.27058824, 0.81176471,\n",
       "        0.8745098 , 0.85490196, 0.84705882, 0.84705882, 0.63921569,\n",
       "        0.49803922, 0.4745098 , 0.47843137, 0.57254902, 0.55294118,\n",
       "        0.34509804, 0.6745098 , 0.25882353],\n",
       "       [0.        , 0.        , 0.        , 0.        , 0.        ,\n",
       "        0.        , 0.        , 0.        , 0.        , 0.00392157,\n",
       "        0.00392157, 0.00392157, 0.        , 0.78431373, 0.90980392,\n",
       "        0.90980392, 0.91372549, 0.89803922, 0.8745098 , 0.8745098 ,\n",
       "        0.84313725, 0.83529412, 0.64313725, 0.49803922, 0.48235294,\n",
       "        0.76862745, 0.89803922, 0.        ],\n",
       "       [0.        , 0.        , 0.        , 0.        , 0.        ,\n",
       "        0.        , 0.        , 0.        , 0.        , 0.        ,\n",
       "        0.        , 0.        , 0.        , 0.71764706, 0.88235294,\n",
       "        0.84705882, 0.8745098 , 0.89411765, 0.92156863, 0.89019608,\n",
       "        0.87843137, 0.87058824, 0.87843137, 0.86666667, 0.8745098 ,\n",
       "        0.96078431, 0.67843137, 0.        ],\n",
       "       [0.        , 0.        , 0.        , 0.        , 0.        ,\n",
       "        0.        , 0.        , 0.        , 0.        , 0.        ,\n",
       "        0.        , 0.        , 0.        , 0.75686275, 0.89411765,\n",
       "        0.85490196, 0.83529412, 0.77647059, 0.70588235, 0.83137255,\n",
       "        0.82352941, 0.82745098, 0.83529412, 0.8745098 , 0.8627451 ,\n",
       "        0.95294118, 0.79215686, 0.        ],\n",
       "       [0.        , 0.        , 0.        , 0.        , 0.        ,\n",
       "        0.        , 0.        , 0.        , 0.        , 0.00392157,\n",
       "        0.01176471, 0.        , 0.04705882, 0.85882353, 0.8627451 ,\n",
       "        0.83137255, 0.85490196, 0.75294118, 0.6627451 , 0.89019608,\n",
       "        0.81568627, 0.85490196, 0.87843137, 0.83137255, 0.88627451,\n",
       "        0.77254902, 0.81960784, 0.20392157],\n",
       "       [0.        , 0.        , 0.        , 0.        , 0.        ,\n",
       "        0.        , 0.        , 0.        , 0.        , 0.        ,\n",
       "        0.02352941, 0.        , 0.38823529, 0.95686275, 0.87058824,\n",
       "        0.8627451 , 0.85490196, 0.79607843, 0.77647059, 0.86666667,\n",
       "        0.84313725, 0.83529412, 0.87058824, 0.8627451 , 0.96078431,\n",
       "        0.46666667, 0.65490196, 0.21960784],\n",
       "       [0.        , 0.        , 0.        , 0.        , 0.        ,\n",
       "        0.        , 0.        , 0.        , 0.        , 0.01568627,\n",
       "        0.        , 0.        , 0.21568627, 0.9254902 , 0.89411765,\n",
       "        0.90196078, 0.89411765, 0.94117647, 0.90980392, 0.83529412,\n",
       "        0.85490196, 0.8745098 , 0.91764706, 0.85098039, 0.85098039,\n",
       "        0.81960784, 0.36078431, 0.        ],\n",
       "       [0.        , 0.        , 0.00392157, 0.01568627, 0.02352941,\n",
       "        0.02745098, 0.00784314, 0.        , 0.        , 0.        ,\n",
       "        0.        , 0.        , 0.92941176, 0.88627451, 0.85098039,\n",
       "        0.8745098 , 0.87058824, 0.85882353, 0.87058824, 0.86666667,\n",
       "        0.84705882, 0.8745098 , 0.89803922, 0.84313725, 0.85490196,\n",
       "        1.        , 0.30196078, 0.        ],\n",
       "       [0.        , 0.01176471, 0.        , 0.        , 0.        ,\n",
       "        0.        , 0.        , 0.        , 0.        , 0.24313725,\n",
       "        0.56862745, 0.8       , 0.89411765, 0.81176471, 0.83529412,\n",
       "        0.86666667, 0.85490196, 0.81568627, 0.82745098, 0.85490196,\n",
       "        0.87843137, 0.8745098 , 0.85882353, 0.84313725, 0.87843137,\n",
       "        0.95686275, 0.62352941, 0.        ],\n",
       "       [0.        , 0.        , 0.        , 0.        , 0.07058824,\n",
       "        0.17254902, 0.32156863, 0.41960784, 0.74117647, 0.89411765,\n",
       "        0.8627451 , 0.87058824, 0.85098039, 0.88627451, 0.78431373,\n",
       "        0.80392157, 0.82745098, 0.90196078, 0.87843137, 0.91764706,\n",
       "        0.69019608, 0.7372549 , 0.98039216, 0.97254902, 0.91372549,\n",
       "        0.93333333, 0.84313725, 0.        ],\n",
       "       [0.        , 0.22352941, 0.73333333, 0.81568627, 0.87843137,\n",
       "        0.86666667, 0.87843137, 0.81568627, 0.8       , 0.83921569,\n",
       "        0.81568627, 0.81960784, 0.78431373, 0.62352941, 0.96078431,\n",
       "        0.75686275, 0.80784314, 0.8745098 , 1.        , 1.        ,\n",
       "        0.86666667, 0.91764706, 0.86666667, 0.82745098, 0.8627451 ,\n",
       "        0.90980392, 0.96470588, 0.        ],\n",
       "       [0.01176471, 0.79215686, 0.89411765, 0.87843137, 0.86666667,\n",
       "        0.82745098, 0.82745098, 0.83921569, 0.80392157, 0.80392157,\n",
       "        0.80392157, 0.8627451 , 0.94117647, 0.31372549, 0.58823529,\n",
       "        1.        , 0.89803922, 0.86666667, 0.7372549 , 0.60392157,\n",
       "        0.74901961, 0.82352941, 0.8       , 0.81960784, 0.87058824,\n",
       "        0.89411765, 0.88235294, 0.        ],\n",
       "       [0.38431373, 0.91372549, 0.77647059, 0.82352941, 0.87058824,\n",
       "        0.89803922, 0.89803922, 0.91764706, 0.97647059, 0.8627451 ,\n",
       "        0.76078431, 0.84313725, 0.85098039, 0.94509804, 0.25490196,\n",
       "        0.28627451, 0.41568627, 0.45882353, 0.65882353, 0.85882353,\n",
       "        0.86666667, 0.84313725, 0.85098039, 0.8745098 , 0.8745098 ,\n",
       "        0.87843137, 0.89803922, 0.11372549],\n",
       "       [0.29411765, 0.8       , 0.83137255, 0.8       , 0.75686275,\n",
       "        0.80392157, 0.82745098, 0.88235294, 0.84705882, 0.7254902 ,\n",
       "        0.77254902, 0.80784314, 0.77647059, 0.83529412, 0.94117647,\n",
       "        0.76470588, 0.89019608, 0.96078431, 0.9372549 , 0.8745098 ,\n",
       "        0.85490196, 0.83137255, 0.81960784, 0.87058824, 0.8627451 ,\n",
       "        0.86666667, 0.90196078, 0.2627451 ],\n",
       "       [0.18823529, 0.79607843, 0.71764706, 0.76078431, 0.83529412,\n",
       "        0.77254902, 0.7254902 , 0.74509804, 0.76078431, 0.75294118,\n",
       "        0.79215686, 0.83921569, 0.85882353, 0.86666667, 0.8627451 ,\n",
       "        0.9254902 , 0.88235294, 0.84705882, 0.78039216, 0.80784314,\n",
       "        0.72941176, 0.70980392, 0.69411765, 0.6745098 , 0.70980392,\n",
       "        0.80392157, 0.80784314, 0.45098039],\n",
       "       [0.        , 0.47843137, 0.85882353, 0.75686275, 0.70196078,\n",
       "        0.67058824, 0.71764706, 0.76862745, 0.8       , 0.82352941,\n",
       "        0.83529412, 0.81176471, 0.82745098, 0.82352941, 0.78431373,\n",
       "        0.76862745, 0.76078431, 0.74901961, 0.76470588, 0.74901961,\n",
       "        0.77647059, 0.75294118, 0.69019608, 0.61176471, 0.65490196,\n",
       "        0.69411765, 0.82352941, 0.36078431],\n",
       "       [0.        , 0.        , 0.29019608, 0.74117647, 0.83137255,\n",
       "        0.74901961, 0.68627451, 0.6745098 , 0.68627451, 0.70980392,\n",
       "        0.7254902 , 0.7372549 , 0.74117647, 0.7372549 , 0.75686275,\n",
       "        0.77647059, 0.8       , 0.81960784, 0.82352941, 0.82352941,\n",
       "        0.82745098, 0.7372549 , 0.7372549 , 0.76078431, 0.75294118,\n",
       "        0.84705882, 0.66666667, 0.        ],\n",
       "       [0.00784314, 0.        , 0.        , 0.        , 0.25882353,\n",
       "        0.78431373, 0.87058824, 0.92941176, 0.9372549 , 0.94901961,\n",
       "        0.96470588, 0.95294118, 0.95686275, 0.86666667, 0.8627451 ,\n",
       "        0.75686275, 0.74901961, 0.70196078, 0.71372549, 0.71372549,\n",
       "        0.70980392, 0.69019608, 0.65098039, 0.65882353, 0.38823529,\n",
       "        0.22745098, 0.        , 0.        ],\n",
       "       [0.        , 0.        , 0.        , 0.        , 0.        ,\n",
       "        0.        , 0.        , 0.15686275, 0.23921569, 0.17254902,\n",
       "        0.28235294, 0.16078431, 0.1372549 , 0.        , 0.        ,\n",
       "        0.        , 0.        , 0.        , 0.        , 0.        ,\n",
       "        0.        , 0.        , 0.        , 0.        , 0.        ,\n",
       "        0.        , 0.        , 0.        ],\n",
       "       [0.        , 0.        , 0.        , 0.        , 0.        ,\n",
       "        0.        , 0.        , 0.        , 0.        , 0.        ,\n",
       "        0.        , 0.        , 0.        , 0.        , 0.        ,\n",
       "        0.        , 0.        , 0.        , 0.        , 0.        ,\n",
       "        0.        , 0.        , 0.        , 0.        , 0.        ,\n",
       "        0.        , 0.        , 0.        ],\n",
       "       [0.        , 0.        , 0.        , 0.        , 0.        ,\n",
       "        0.        , 0.        , 0.        , 0.        , 0.        ,\n",
       "        0.        , 0.        , 0.        , 0.        , 0.        ,\n",
       "        0.        , 0.        , 0.        , 0.        , 0.        ,\n",
       "        0.        , 0.        , 0.        , 0.        , 0.        ,\n",
       "        0.        , 0.        , 0.        ]])"
      ]
     },
     "execution_count": 15,
     "metadata": {},
     "output_type": "execute_result"
    }
   ],
   "source": [
    "x_valid[0]"
   ]
  },
  {
   "cell_type": "code",
   "execution_count": 16,
   "id": "c4c73622",
   "metadata": {},
   "outputs": [],
   "source": [
    "np.random.seed(42)\n",
    "tf.random.set_seed(42)"
   ]
  },
  {
   "cell_type": "code",
   "execution_count": 17,
   "id": "70792b85",
   "metadata": {},
   "outputs": [],
   "source": [
    "model=keras.models.Sequential()\n",
    "model.add(keras.layers.Flatten(input_shape=[28,28]))\n",
    "model.add(keras.layers.Dense(300,activation=\"relu\"))\n",
    "model.add(keras.layers.Dense(100,activation=\"relu\"))\n",
    "model.add(keras.layers.Dense(10,activation=\"softmax\"))"
   ]
  },
  {
   "cell_type": "code",
   "execution_count": 18,
   "id": "b9ae2fd3",
   "metadata": {},
   "outputs": [
    {
     "name": "stdout",
     "output_type": "stream",
     "text": [
      "Model: \"sequential\"\n",
      "_________________________________________________________________\n",
      " Layer (type)                Output Shape              Param #   \n",
      "=================================================================\n",
      " flatten (Flatten)           (None, 784)               0         \n",
      "                                                                 \n",
      " dense (Dense)               (None, 300)               235500    \n",
      "                                                                 \n",
      " dense_1 (Dense)             (None, 100)               30100     \n",
      "                                                                 \n",
      " dense_2 (Dense)             (None, 10)                1010      \n",
      "                                                                 \n",
      "=================================================================\n",
      "Total params: 266,610\n",
      "Trainable params: 266,610\n",
      "Non-trainable params: 0\n",
      "_________________________________________________________________\n"
     ]
    }
   ],
   "source": [
    "model.summary()"
   ]
  },
  {
   "cell_type": "code",
   "execution_count": 19,
   "id": "a436d886",
   "metadata": {},
   "outputs": [],
   "source": [
    "import pydot"
   ]
  },
  {
   "cell_type": "code",
   "execution_count": 20,
   "id": "0637a153",
   "metadata": {},
   "outputs": [
    {
     "data": {
      "image/png": "[encoded data removed]",
      "text/plain": [
       "<IPython.core.display.Image object>"
      ]
     },
     "execution_count": 20,
     "metadata": {},
     "output_type": "execute_result"
    }
   ],
   "source": [
    "keras.utils.plot_model(model)"
   ]
  },
  {
   "cell_type": "code",
   "execution_count": 21,
   "id": "3162bb0d",
   "metadata": {},
   "outputs": [],
   "source": [
    "weights,biases=model.layers[1].get_weights()"
   ]
  },
  {
   "cell_type": "code",
   "execution_count": 22,
   "id": "2bdc9eb7",
   "metadata": {},
   "outputs": [
    {
     "data": {
      "text/plain": [
       "array([[ 0.02448617, -0.00877795, -0.02189048, ..., -0.02766046,\n",
       "         0.03859074, -0.06889391],\n",
       "       [ 0.00476504, -0.03105379, -0.0586676 , ...,  0.00602964,\n",
       "        -0.02763776, -0.04165364],\n",
       "       [-0.06189284, -0.06901957,  0.07102345, ..., -0.04238207,\n",
       "         0.07121518, -0.07331658],\n",
       "       ...,\n",
       "       [-0.03048757,  0.02155137, -0.05400612, ..., -0.00113463,\n",
       "         0.00228987,  0.05581069],\n",
       "       [ 0.07061854, -0.06960931,  0.07038955, ..., -0.00384101,\n",
       "         0.00034875,  0.02878492],\n",
       "       [-0.06022581,  0.01577859, -0.02585464, ..., -0.00527829,\n",
       "         0.00272203, -0.06793761]], dtype=float32)"
      ]
     },
     "execution_count": 22,
     "metadata": {},
     "output_type": "execute_result"
    }
   ],
   "source": [
    "weights"
   ]
  },
  {
   "cell_type": "code",
   "execution_count": 23,
   "id": "e1a92018",
   "metadata": {},
   "outputs": [
    {
     "data": {
      "text/plain": [
       "(784, 300)"
      ]
     },
     "execution_count": 23,
     "metadata": {},
     "output_type": "execute_result"
    }
   ],
   "source": [
    "weights.shape"
   ]
  },
  {
   "cell_type": "code",
   "execution_count": 24,
   "id": "59204a0e",
   "metadata": {},
   "outputs": [
    {
     "data": {
      "text/plain": [
       "array([0., 0., 0., 0., 0., 0., 0., 0., 0., 0., 0., 0., 0., 0., 0., 0., 0.,\n",
       "       0., 0., 0., 0., 0., 0., 0., 0., 0., 0., 0., 0., 0., 0., 0., 0., 0.,\n",
       "       0., 0., 0., 0., 0., 0., 0., 0., 0., 0., 0., 0., 0., 0., 0., 0., 0.,\n",
       "       0., 0., 0., 0., 0., 0., 0., 0., 0., 0., 0., 0., 0., 0., 0., 0., 0.,\n",
       "       0., 0., 0., 0., 0., 0., 0., 0., 0., 0., 0., 0., 0., 0., 0., 0., 0.,\n",
       "       0., 0., 0., 0., 0., 0., 0., 0., 0., 0., 0., 0., 0., 0., 0., 0., 0.,\n",
       "       0., 0., 0., 0., 0., 0., 0., 0., 0., 0., 0., 0., 0., 0., 0., 0., 0.,\n",
       "       0., 0., 0., 0., 0., 0., 0., 0., 0., 0., 0., 0., 0., 0., 0., 0., 0.,\n",
       "       0., 0., 0., 0., 0., 0., 0., 0., 0., 0., 0., 0., 0., 0., 0., 0., 0.,\n",
       "       0., 0., 0., 0., 0., 0., 0., 0., 0., 0., 0., 0., 0., 0., 0., 0., 0.,\n",
       "       0., 0., 0., 0., 0., 0., 0., 0., 0., 0., 0., 0., 0., 0., 0., 0., 0.,\n",
       "       0., 0., 0., 0., 0., 0., 0., 0., 0., 0., 0., 0., 0., 0., 0., 0., 0.,\n",
       "       0., 0., 0., 0., 0., 0., 0., 0., 0., 0., 0., 0., 0., 0., 0., 0., 0.,\n",
       "       0., 0., 0., 0., 0., 0., 0., 0., 0., 0., 0., 0., 0., 0., 0., 0., 0.,\n",
       "       0., 0., 0., 0., 0., 0., 0., 0., 0., 0., 0., 0., 0., 0., 0., 0., 0.,\n",
       "       0., 0., 0., 0., 0., 0., 0., 0., 0., 0., 0., 0., 0., 0., 0., 0., 0.,\n",
       "       0., 0., 0., 0., 0., 0., 0., 0., 0., 0., 0., 0., 0., 0., 0., 0., 0.,\n",
       "       0., 0., 0., 0., 0., 0., 0., 0., 0., 0., 0.], dtype=float32)"
      ]
     },
     "execution_count": 24,
     "metadata": {},
     "output_type": "execute_result"
    }
   ],
   "source": [
    "biases"
   ]
  },
  {
   "cell_type": "code",
   "execution_count": 25,
   "id": "52c33396",
   "metadata": {},
   "outputs": [
    {
     "data": {
      "text/plain": [
       "(300,)"
      ]
     },
     "execution_count": 25,
     "metadata": {},
     "output_type": "execute_result"
    }
   ],
   "source": [
    "biases.shape"
   ]
  },
  {
   "cell_type": "code",
   "execution_count": 27,
   "id": "d54c07c0",
   "metadata": {},
   "outputs": [],
   "source": [
    "model.compile(loss=\"sparse_categorical_crossentropy\" ,\n",
    "             optimizer=\"sgd\",\n",
    "             metrics=[\"accuracy\"])"
   ]
  },
  {
   "cell_type": "code",
   "execution_count": 28,
   "id": "4fa5b585",
   "metadata": {},
   "outputs": [
    {
     "name": "stdout",
     "output_type": "stream",
     "text": [
      "Epoch 1/30\n",
      "1719/1719 [==============================] - 18s 8ms/step - loss: 0.7237 - accuracy: 0.7644 - val_loss: 0.5207 - val_accuracy: 0.8234\n",
      "Epoch 2/30\n",
      "1719/1719 [==============================] - 11s 6ms/step - loss: 0.4843 - accuracy: 0.8318 - val_loss: 0.4349 - val_accuracy: 0.8528\n",
      "Epoch 3/30\n",
      "1719/1719 [==============================] - 13s 7ms/step - loss: 0.4392 - accuracy: 0.8455 - val_loss: 0.5337 - val_accuracy: 0.7984\n",
      "Epoch 4/30\n",
      "1719/1719 [==============================] - 10s 6ms/step - loss: 0.4125 - accuracy: 0.8564 - val_loss: 0.3921 - val_accuracy: 0.8646\n",
      "Epoch 5/30\n",
      "1719/1719 [==============================] - 12s 7ms/step - loss: 0.3939 - accuracy: 0.8618 - val_loss: 0.3750 - val_accuracy: 0.8682\n",
      "Epoch 6/30\n",
      "1719/1719 [==============================] - 12s 7ms/step - loss: 0.3753 - accuracy: 0.8675 - val_loss: 0.3703 - val_accuracy: 0.8730\n",
      "Epoch 7/30\n",
      "1719/1719 [==============================] - 12s 7ms/step - loss: 0.3632 - accuracy: 0.8716 - val_loss: 0.3619 - val_accuracy: 0.8710\n",
      "Epoch 8/30\n",
      "1719/1719 [==============================] - 11s 7ms/step - loss: 0.3519 - accuracy: 0.8747 - val_loss: 0.3842 - val_accuracy: 0.8612\n",
      "Epoch 9/30\n",
      "1719/1719 [==============================] - 12s 7ms/step - loss: 0.3416 - accuracy: 0.8787 - val_loss: 0.3584 - val_accuracy: 0.8710\n",
      "Epoch 10/30\n",
      "1719/1719 [==============================] - 11s 7ms/step - loss: 0.3321 - accuracy: 0.8822 - val_loss: 0.3426 - val_accuracy: 0.8780\n",
      "Epoch 11/30\n",
      "1719/1719 [==============================] - 10s 6ms/step - loss: 0.3242 - accuracy: 0.8838 - val_loss: 0.3439 - val_accuracy: 0.8780\n",
      "Epoch 12/30\n",
      "1719/1719 [==============================] - 12s 7ms/step - loss: 0.3150 - accuracy: 0.8865 - val_loss: 0.3311 - val_accuracy: 0.8834\n",
      "Epoch 13/30\n",
      "1719/1719 [==============================] - 12s 7ms/step - loss: 0.3082 - accuracy: 0.8890 - val_loss: 0.3264 - val_accuracy: 0.8874\n",
      "Epoch 14/30\n",
      "1719/1719 [==============================] - 13s 8ms/step - loss: 0.3021 - accuracy: 0.8918 - val_loss: 0.3411 - val_accuracy: 0.8786\n",
      "Epoch 15/30\n",
      "1719/1719 [==============================] - 11s 7ms/step - loss: 0.2948 - accuracy: 0.8936 - val_loss: 0.3215 - val_accuracy: 0.8856\n",
      "Epoch 16/30\n",
      "1719/1719 [==============================] - 11s 6ms/step - loss: 0.2892 - accuracy: 0.8969 - val_loss: 0.3096 - val_accuracy: 0.8900\n",
      "Epoch 17/30\n",
      "1719/1719 [==============================] - 13s 7ms/step - loss: 0.2840 - accuracy: 0.8974 - val_loss: 0.3573 - val_accuracy: 0.8724\n",
      "Epoch 18/30\n",
      "1719/1719 [==============================] - 11s 6ms/step - loss: 0.2779 - accuracy: 0.8997 - val_loss: 0.3144 - val_accuracy: 0.8890\n",
      "Epoch 19/30\n",
      "1719/1719 [==============================] - 12s 7ms/step - loss: 0.2729 - accuracy: 0.9022 - val_loss: 0.3116 - val_accuracy: 0.8900\n",
      "Epoch 20/30\n",
      "1719/1719 [==============================] - 9s 5ms/step - loss: 0.2676 - accuracy: 0.9031 - val_loss: 0.3261 - val_accuracy: 0.8812\n",
      "Epoch 21/30\n",
      "1719/1719 [==============================] - 12s 7ms/step - loss: 0.2626 - accuracy: 0.9055 - val_loss: 0.3059 - val_accuracy: 0.8934\n",
      "Epoch 22/30\n",
      "1719/1719 [==============================] - 9s 5ms/step - loss: 0.2578 - accuracy: 0.9069 - val_loss: 0.2969 - val_accuracy: 0.8954\n",
      "Epoch 23/30\n",
      "1719/1719 [==============================] - 12s 7ms/step - loss: 0.2535 - accuracy: 0.9085 - val_loss: 0.2986 - val_accuracy: 0.8944\n",
      "Epoch 24/30\n",
      "1719/1719 [==============================] - 11s 7ms/step - loss: 0.2486 - accuracy: 0.9099 - val_loss: 0.3062 - val_accuracy: 0.8890\n",
      "Epoch 25/30\n",
      "1719/1719 [==============================] - 12s 7ms/step - loss: 0.2445 - accuracy: 0.9120 - val_loss: 0.2976 - val_accuracy: 0.8954\n",
      "Epoch 26/30\n",
      "1719/1719 [==============================] - 11s 6ms/step - loss: 0.2407 - accuracy: 0.9138 - val_loss: 0.3070 - val_accuracy: 0.8906\n",
      "Epoch 27/30\n",
      "1719/1719 [==============================] - 13s 7ms/step - loss: 0.2365 - accuracy: 0.9150 - val_loss: 0.3013 - val_accuracy: 0.8956\n",
      "Epoch 28/30\n",
      "1719/1719 [==============================] - 11s 6ms/step - loss: 0.2329 - accuracy: 0.9168 - val_loss: 0.3000 - val_accuracy: 0.8928\n",
      "Epoch 29/30\n",
      "1719/1719 [==============================] - 11s 6ms/step - loss: 0.2285 - accuracy: 0.9179 - val_loss: 0.3064 - val_accuracy: 0.8912\n",
      "Epoch 30/30\n",
      "1719/1719 [==============================] - 14s 8ms/step - loss: 0.2254 - accuracy: 0.9194 - val_loss: 0.3015 - val_accuracy: 0.8940\n"
     ]
    }
   ],
   "source": [
    "model_history=model.fit(x_train,y_train,epochs=30,\n",
    "                       validation_data=(x_valid,y_valid))"
   ]
  },
  {
   "cell_type": "code",
   "execution_count": 30,
   "id": "e83ce03c",
   "metadata": {},
   "outputs": [
    {
     "data": {
      "text/plain": [
       "{'verbose': 1, 'epochs': 30, 'steps': 1719}"
      ]
     },
     "execution_count": 30,
     "metadata": {},
     "output_type": "execute_result"
    }
   ],
   "source": [
    "model_history.params"
   ]
  },
  {
   "cell_type": "code",
   "execution_count": 32,
   "id": "2c4b0d94",
   "metadata": {},
   "outputs": [
    {
     "data": {
      "text/plain": [
       "{'loss': [0.7236780524253845,\n",
       "  0.4842923581600189,\n",
       "  0.43919673562049866,\n",
       "  0.41247543692588806,\n",
       "  0.3939182162284851,\n",
       "  0.3752616047859192,\n",
       "  0.3632253408432007,\n",
       "  0.35186830163002014,\n",
       "  0.341603547334671,\n",
       "  0.3321494460105896,\n",
       "  0.32416215538978577,\n",
       "  0.3150116801261902,\n",
       "  0.3082337975502014,\n",
       "  0.3021402955055237,\n",
       "  0.2948046028614044,\n",
       "  0.2891809344291687,\n",
       "  0.2839951813220978,\n",
       "  0.27788659930229187,\n",
       "  0.2729426622390747,\n",
       "  0.2675706446170807,\n",
       "  0.2625528573989868,\n",
       "  0.25783461332321167,\n",
       "  0.25354886054992676,\n",
       "  0.2486323118209839,\n",
       "  0.24452710151672363,\n",
       "  0.2406538873910904,\n",
       "  0.2365475296974182,\n",
       "  0.2329326719045639,\n",
       "  0.22849802672863007,\n",
       "  0.22538699209690094],\n",
       " 'accuracy': [0.7644181847572327,\n",
       "  0.8317999839782715,\n",
       "  0.8455272912979126,\n",
       "  0.8564000129699707,\n",
       "  0.8617636561393738,\n",
       "  0.8674545288085938,\n",
       "  0.8715636134147644,\n",
       "  0.8747090697288513,\n",
       "  0.878745436668396,\n",
       "  0.8822363615036011,\n",
       "  0.8838182091712952,\n",
       "  0.8864908814430237,\n",
       "  0.8890363574028015,\n",
       "  0.8917636275291443,\n",
       "  0.8936363458633423,\n",
       "  0.8969454765319824,\n",
       "  0.8974000215530396,\n",
       "  0.8997091054916382,\n",
       "  0.9022181630134583,\n",
       "  0.9030908942222595,\n",
       "  0.9054727554321289,\n",
       "  0.9068909287452698,\n",
       "  0.9085090756416321,\n",
       "  0.90989089012146,\n",
       "  0.9120181798934937,\n",
       "  0.9138000011444092,\n",
       "  0.9149636626243591,\n",
       "  0.9168363809585571,\n",
       "  0.9179454445838928,\n",
       "  0.9193817973136902],\n",
       " 'val_loss': [0.5206755995750427,\n",
       "  0.4349323809146881,\n",
       "  0.5336593389511108,\n",
       "  0.3920910954475403,\n",
       "  0.374985933303833,\n",
       "  0.37033340334892273,\n",
       "  0.36194172501564026,\n",
       "  0.38421201705932617,\n",
       "  0.35842078924179077,\n",
       "  0.34259819984436035,\n",
       "  0.34389808773994446,\n",
       "  0.33110594749450684,\n",
       "  0.3263663351535797,\n",
       "  0.3411485254764557,\n",
       "  0.3215195834636688,\n",
       "  0.3096095323562622,\n",
       "  0.3572986423969269,\n",
       "  0.31436944007873535,\n",
       "  0.3115508556365967,\n",
       "  0.32611995935440063,\n",
       "  0.30587053298950195,\n",
       "  0.29689741134643555,\n",
       "  0.29856833815574646,\n",
       "  0.3061501085758209,\n",
       "  0.2975802421569824,\n",
       "  0.3069987893104553,\n",
       "  0.3013073801994324,\n",
       "  0.29996445775032043,\n",
       "  0.30641868710517883,\n",
       "  0.30146312713623047],\n",
       " 'val_accuracy': [0.8234000205993652,\n",
       "  0.8528000116348267,\n",
       "  0.7983999848365784,\n",
       "  0.8646000027656555,\n",
       "  0.8682000041007996,\n",
       "  0.8730000257492065,\n",
       "  0.8709999918937683,\n",
       "  0.8611999750137329,\n",
       "  0.8709999918937683,\n",
       "  0.878000020980835,\n",
       "  0.878000020980835,\n",
       "  0.883400022983551,\n",
       "  0.8873999714851379,\n",
       "  0.878600001335144,\n",
       "  0.8855999708175659,\n",
       "  0.8899999856948853,\n",
       "  0.8723999857902527,\n",
       "  0.8889999985694885,\n",
       "  0.8899999856948853,\n",
       "  0.8812000155448914,\n",
       "  0.8934000134468079,\n",
       "  0.8953999876976013,\n",
       "  0.8944000005722046,\n",
       "  0.8889999985694885,\n",
       "  0.8953999876976013,\n",
       "  0.8906000256538391,\n",
       "  0.8956000208854675,\n",
       "  0.892799973487854,\n",
       "  0.8912000060081482,\n",
       "  0.8939999938011169]}"
      ]
     },
     "execution_count": 32,
     "metadata": {},
     "output_type": "execute_result"
    }
   ],
   "source": [
    "model_history.history"
   ]
  },
  {
   "cell_type": "code",
   "execution_count": 34,
   "id": "7688ff41",
   "metadata": {},
   "outputs": [
    {
     "data": {
      "image/png": "[encoded data removed]",
      "text/plain": [
       "<Figure size 576x360 with 1 Axes>"
      ]
     },
     "metadata": {
      "needs_background": "light"
     },
     "output_type": "display_data"
    }
   ],
   "source": [
    "import pandas as pd \n",
    "pd.DataFrame(model_history.history).plot(figsize=(8,5))\n",
    "plt.grid(True)\n",
    "plt.gca().set_ylim(0,1)\n",
    "plt.show()"
   ]
  },
  {
   "cell_type": "code",
   "execution_count": 35,
   "id": "d5a3dac4",
   "metadata": {},
   "outputs": [
    {
     "name": "stdout",
     "output_type": "stream",
     "text": [
      "Epoch 1/30\n",
      "1719/1719 [==============================] - 13s 7ms/step - loss: 0.2208 - accuracy: 0.9202 - val_loss: 0.2890 - val_accuracy: 0.8954\n",
      "Epoch 2/30\n",
      "1719/1719 [==============================] - 15s 9ms/step - loss: 0.2177 - accuracy: 0.9217 - val_loss: 0.2921 - val_accuracy: 0.8968\n",
      "Epoch 3/30\n",
      "1719/1719 [==============================] - 16s 9ms/step - loss: 0.2140 - accuracy: 0.9224 - val_loss: 0.3818 - val_accuracy: 0.8602\n",
      "Epoch 4/30\n",
      "1719/1719 [==============================] - 16s 9ms/step - loss: 0.2107 - accuracy: 0.9247 - val_loss: 0.2903 - val_accuracy: 0.8966\n",
      "Epoch 5/30\n",
      "1719/1719 [==============================] - 16s 9ms/step - loss: 0.2087 - accuracy: 0.9242 - val_loss: 0.2824 - val_accuracy: 0.8984\n",
      "Epoch 6/30\n",
      "1719/1719 [==============================] - 15s 9ms/step - loss: 0.2033 - accuracy: 0.9273 - val_loss: 0.2990 - val_accuracy: 0.8914\n",
      "Epoch 7/30\n",
      "1719/1719 [==============================] - 11s 6ms/step - loss: 0.2006 - accuracy: 0.9288 - val_loss: 0.2913 - val_accuracy: 0.8984\n",
      "Epoch 8/30\n",
      "1719/1719 [==============================] - 16s 9ms/step - loss: 0.1978 - accuracy: 0.9295 - val_loss: 0.3073 - val_accuracy: 0.8886\n",
      "Epoch 9/30\n",
      "1719/1719 [==============================] - 15s 9ms/step - loss: 0.1942 - accuracy: 0.9303 - val_loss: 0.2974 - val_accuracy: 0.8914\n",
      "Epoch 10/30\n",
      "1719/1719 [==============================] - 16s 9ms/step - loss: 0.1913 - accuracy: 0.9319 - val_loss: 0.2862 - val_accuracy: 0.9014\n",
      "Epoch 11/30\n",
      "1719/1719 [==============================] - 16s 9ms/step - loss: 0.1892 - accuracy: 0.9322 - val_loss: 0.2928 - val_accuracy: 0.8970\n",
      "Epoch 12/30\n",
      "1719/1719 [==============================] - 16s 9ms/step - loss: 0.1847 - accuracy: 0.9344 - val_loss: 0.2967 - val_accuracy: 0.8978\n",
      "Epoch 13/30\n",
      "1719/1719 [==============================] - 16s 9ms/step - loss: 0.1819 - accuracy: 0.9359 - val_loss: 0.2968 - val_accuracy: 0.8970\n",
      "Epoch 14/30\n",
      "1719/1719 [==============================] - 16s 9ms/step - loss: 0.1795 - accuracy: 0.9361 - val_loss: 0.3056 - val_accuracy: 0.8920\n",
      "Epoch 15/30\n",
      "1719/1719 [==============================] - 16s 9ms/step - loss: 0.1767 - accuracy: 0.9371 - val_loss: 0.2965 - val_accuracy: 0.8956\n",
      "Epoch 16/30\n",
      "1719/1719 [==============================] - 14s 8ms/step - loss: 0.1744 - accuracy: 0.9378 - val_loss: 0.2876 - val_accuracy: 0.8956\n",
      "Epoch 17/30\n",
      "1719/1719 [==============================] - 16s 10ms/step - loss: 0.1716 - accuracy: 0.9393 - val_loss: 0.3212 - val_accuracy: 0.8936\n",
      "Epoch 18/30\n",
      "1719/1719 [==============================] - 16s 9ms/step - loss: 0.1685 - accuracy: 0.9394 - val_loss: 0.2861 - val_accuracy: 0.9012\n",
      "Epoch 19/30\n",
      "1719/1719 [==============================] - 15s 9ms/step - loss: 0.1663 - accuracy: 0.9409 - val_loss: 0.2978 - val_accuracy: 0.9006\n",
      "Epoch 20/30\n",
      "1719/1719 [==============================] - 14s 8ms/step - loss: 0.1629 - accuracy: 0.9416 - val_loss: 0.3057 - val_accuracy: 0.8930\n",
      "Epoch 21/30\n",
      "1719/1719 [==============================] - 16s 9ms/step - loss: 0.1606 - accuracy: 0.9427 - val_loss: 0.3014 - val_accuracy: 0.8952\n",
      "Epoch 22/30\n",
      "1719/1719 [==============================] - 16s 9ms/step - loss: 0.1579 - accuracy: 0.9429 - val_loss: 0.2896 - val_accuracy: 0.9010\n",
      "Epoch 23/30\n",
      "1719/1719 [==============================] - 16s 10ms/step - loss: 0.1555 - accuracy: 0.9448 - val_loss: 0.2916 - val_accuracy: 0.8996\n",
      "Epoch 24/30\n",
      "1719/1719 [==============================] - 14s 8ms/step - loss: 0.1531 - accuracy: 0.9453 - val_loss: 0.3144 - val_accuracy: 0.8926\n",
      "Epoch 25/30\n",
      "1719/1719 [==============================] - 16s 10ms/step - loss: 0.1505 - accuracy: 0.9466 - val_loss: 0.2923 - val_accuracy: 0.9018\n",
      "Epoch 26/30\n",
      "1719/1719 [==============================] - 15s 9ms/step - loss: 0.1484 - accuracy: 0.9470 - val_loss: 0.3047 - val_accuracy: 0.8998\n",
      "Epoch 27/30\n",
      "1719/1719 [==============================] - 17s 10ms/step - loss: 0.1461 - accuracy: 0.9480 - val_loss: 0.3046 - val_accuracy: 0.8972\n",
      "Epoch 28/30\n",
      "1719/1719 [==============================] - 14s 8ms/step - loss: 0.1442 - accuracy: 0.9492 - val_loss: 0.2960 - val_accuracy: 0.9006\n",
      "Epoch 29/30\n",
      "1719/1719 [==============================] - 15s 9ms/step - loss: 0.1416 - accuracy: 0.9501 - val_loss: 0.3106 - val_accuracy: 0.8952\n",
      "Epoch 30/30\n",
      "1719/1719 [==============================] - 16s 10ms/step - loss: 0.1392 - accuracy: 0.9518 - val_loss: 0.3117 - val_accuracy: 0.8970\n"
     ]
    }
   ],
   "source": [
    "model_history=model.fit(x_train,y_train,epochs=30,\n",
    "                       validation_data=(x_valid,y_valid))"
   ]
  },
  {
   "cell_type": "code",
   "execution_count": 36,
   "id": "89b60e77",
   "metadata": {},
   "outputs": [
    {
     "data": {
      "image/png": "[encoded data removed]",
      "text/plain": [
       "<Figure size 576x360 with 1 Axes>"
      ]
     },
     "metadata": {
      "needs_background": "light"
     },
     "output_type": "display_data"
    }
   ],
   "source": [
    "import pandas as pd \n",
    "pd.DataFrame(model_history.history).plot(figsize=(8,5))\n",
    "plt.grid(True)\n",
    "plt.gca().set_ylim(0,1)\n",
    "plt.show()"
   ]
  },
  {
   "cell_type": "code",
   "execution_count": 37,
   "id": "c851b6e5",
   "metadata": {},
   "outputs": [
    {
     "name": "stdout",
     "output_type": "stream",
     "text": [
      "Epoch 1/30\n",
      "1719/1719 [==============================] - 15s 9ms/step - loss: 0.1358 - accuracy: 0.9521 - val_loss: 0.3003 - val_accuracy: 0.8966\n",
      "Epoch 2/30\n",
      "1719/1719 [==============================] - 15s 9ms/step - loss: 0.1346 - accuracy: 0.9526 - val_loss: 0.3145 - val_accuracy: 0.8916\n",
      "Epoch 3/30\n",
      "1719/1719 [==============================] - 16s 9ms/step - loss: 0.1323 - accuracy: 0.9529 - val_loss: 0.3698 - val_accuracy: 0.8754\n",
      "Epoch 4/30\n",
      "1719/1719 [==============================] - 10s 6ms/step - loss: 0.1295 - accuracy: 0.9543 - val_loss: 0.2967 - val_accuracy: 0.9006\n",
      "Epoch 5/30\n",
      "1719/1719 [==============================] - 11s 7ms/step - loss: 0.1291 - accuracy: 0.9535 - val_loss: 0.2979 - val_accuracy: 0.9030\n",
      "Epoch 6/30\n",
      "1719/1719 [==============================] - 10s 6ms/step - loss: 0.1256 - accuracy: 0.9558 - val_loss: 0.3293 - val_accuracy: 0.8946\n",
      "Epoch 7/30\n",
      "1719/1719 [==============================] - 13s 7ms/step - loss: 0.1236 - accuracy: 0.9572 - val_loss: 0.3211 - val_accuracy: 0.8968\n",
      "Epoch 8/30\n",
      "1719/1719 [==============================] - 14s 8ms/step - loss: 0.1221 - accuracy: 0.9578 - val_loss: 0.3306 - val_accuracy: 0.8934\n",
      "Epoch 9/30\n",
      "1719/1719 [==============================] - 11s 6ms/step - loss: 0.1200 - accuracy: 0.9581 - val_loss: 0.3066 - val_accuracy: 0.9008\n",
      "Epoch 10/30\n",
      "1719/1719 [==============================] - 12s 7ms/step - loss: 0.1177 - accuracy: 0.9598 - val_loss: 0.3079 - val_accuracy: 0.9014\n",
      "Epoch 11/30\n",
      "1719/1719 [==============================] - 12s 7ms/step - loss: 0.1171 - accuracy: 0.9589 - val_loss: 0.3193 - val_accuracy: 0.8988\n",
      "Epoch 12/30\n",
      "1719/1719 [==============================] - 11s 6ms/step - loss: 0.1138 - accuracy: 0.9613 - val_loss: 0.3195 - val_accuracy: 0.8974\n",
      "Epoch 13/30\n",
      "1719/1719 [==============================] - 9s 5ms/step - loss: 0.1123 - accuracy: 0.9607 - val_loss: 0.3235 - val_accuracy: 0.8946\n",
      "Epoch 14/30\n",
      "1719/1719 [==============================] - 11s 6ms/step - loss: 0.1102 - accuracy: 0.9623 - val_loss: 0.3315 - val_accuracy: 0.8928\n",
      "Epoch 15/30\n",
      "1719/1719 [==============================] - 12s 7ms/step - loss: 0.1090 - accuracy: 0.9621 - val_loss: 0.3171 - val_accuracy: 0.8990\n",
      "Epoch 16/30\n",
      "1719/1719 [==============================] - 16s 10ms/step - loss: 0.1082 - accuracy: 0.9630 - val_loss: 0.3203 - val_accuracy: 0.8972\n",
      "Epoch 17/30\n",
      "1719/1719 [==============================] - 12s 7ms/step - loss: 0.1057 - accuracy: 0.9631 - val_loss: 0.3441 - val_accuracy: 0.8948\n",
      "Epoch 18/30\n",
      "1719/1719 [==============================] - 11s 6ms/step - loss: 0.1025 - accuracy: 0.9652 - val_loss: 0.3228 - val_accuracy: 0.9022\n",
      "Epoch 19/30\n",
      "1719/1719 [==============================] - 14s 8ms/step - loss: 0.1029 - accuracy: 0.9644 - val_loss: 0.3335 - val_accuracy: 0.8996\n",
      "Epoch 20/30\n",
      "1719/1719 [==============================] - 15s 9ms/step - loss: 0.1000 - accuracy: 0.9655 - val_loss: 0.3429 - val_accuracy: 0.8954\n",
      "Epoch 21/30\n",
      "1719/1719 [==============================] - 17s 10ms/step - loss: 0.0987 - accuracy: 0.9660 - val_loss: 0.3389 - val_accuracy: 0.8972\n",
      "Epoch 22/30\n",
      "1719/1719 [==============================] - 16s 9ms/step - loss: 0.0974 - accuracy: 0.9667 - val_loss: 0.3250 - val_accuracy: 0.9002\n",
      "Epoch 23/30\n",
      "1719/1719 [==============================] - 16s 9ms/step - loss: 0.0960 - accuracy: 0.9669 - val_loss: 0.3245 - val_accuracy: 0.9028\n",
      "Epoch 24/30\n",
      "1719/1719 [==============================] - 15s 9ms/step - loss: 0.0940 - accuracy: 0.9667 - val_loss: 0.3517 - val_accuracy: 0.8948\n",
      "Epoch 25/30\n",
      "1719/1719 [==============================] - 16s 9ms/step - loss: 0.0925 - accuracy: 0.9681 - val_loss: 0.3298 - val_accuracy: 0.9018\n",
      "Epoch 26/30\n",
      "1719/1719 [==============================] - 15s 9ms/step - loss: 0.0915 - accuracy: 0.9684 - val_loss: 0.3398 - val_accuracy: 0.9028\n",
      "Epoch 27/30\n",
      "1719/1719 [==============================] - 16s 9ms/step - loss: 0.0898 - accuracy: 0.9689 - val_loss: 0.3418 - val_accuracy: 0.9000\n",
      "Epoch 28/30\n",
      "1719/1719 [==============================] - 15s 9ms/step - loss: 0.0886 - accuracy: 0.9696 - val_loss: 0.3366 - val_accuracy: 0.8964\n",
      "Epoch 29/30\n",
      "1719/1719 [==============================] - 14s 8ms/step - loss: 0.0876 - accuracy: 0.9695 - val_loss: 0.3591 - val_accuracy: 0.8936\n",
      "Epoch 30/30\n",
      "1719/1719 [==============================] - 14s 8ms/step - loss: 0.0856 - accuracy: 0.9712 - val_loss: 0.3605 - val_accuracy: 0.8986\n"
     ]
    }
   ],
   "source": [
    "model_history=model.fit(x_train,y_train,epochs=30,\n",
    "                       validation_data=(x_valid,y_valid))"
   ]
  },
  {
   "cell_type": "code",
   "execution_count": 38,
   "id": "2a94aa85",
   "metadata": {},
   "outputs": [
    {
     "data": {
      "image/png": "[encoded data removed]",
      "text/plain": [
       "<Figure size 576x360 with 1 Axes>"
      ]
     },
     "metadata": {
      "needs_background": "light"
     },
     "output_type": "display_data"
    }
   ],
   "source": [
    "import pandas as pd \n",
    "pd.DataFrame(model_history.history).plot(figsize=(8,5))\n",
    "plt.grid(True)\n",
    "plt.gca().set_ylim(0,1)\n",
    "plt.show()"
   ]
  },
  {
   "cell_type": "code",
   "execution_count": 39,
   "id": "165cd5fd",
   "metadata": {},
   "outputs": [
    {
     "name": "stdout",
     "output_type": "stream",
     "text": [
      "1719/1719 [==============================] - 4s 2ms/step - loss: 0.0886 - accuracy: 0.9687\n"
     ]
    },
    {
     "data": {
      "text/plain": [
       "[0.08863592892885208, 0.9686545729637146]"
      ]
     },
     "execution_count": 39,
     "metadata": {},
     "output_type": "execute_result"
    }
   ],
   "source": [
    "model.evaluate(x_train,y_train)"
   ]
  },
  {
   "cell_type": "code",
   "execution_count": 40,
   "id": "0e4507a4",
   "metadata": {},
   "outputs": [],
   "source": [
    "x_new=x_test[:3]"
   ]
  },
  {
   "cell_type": "code",
   "execution_count": 41,
   "id": "91a81c82",
   "metadata": {},
   "outputs": [
    {
     "name": "stdout",
     "output_type": "stream",
     "text": [
      "1/1 [==============================] - 0s 170ms/step\n"
     ]
    },
    {
     "data": {
      "text/plain": [
       "array([[0.  , 0.  , 0.  , 0.  , 0.  , 0.  , 0.  , 0.  , 0.  , 1.  ],\n",
       "       [0.  , 0.  , 0.99, 0.  , 0.01, 0.  , 0.  , 0.  , 0.  , 0.  ],\n",
       "       [0.  , 1.  , 0.  , 0.  , 0.  , 0.  , 0.  , 0.  , 0.  , 0.  ]],\n",
       "      dtype=float32)"
      ]
     },
     "execution_count": 41,
     "metadata": {},
     "output_type": "execute_result"
    }
   ],
   "source": [
    "y_proba=model.predict(x_new)\n",
    "y_proba.round(2)"
   ]
  },
  {
   "cell_type": "code",
   "execution_count": 56,
   "id": "5d15aa70",
   "metadata": {},
   "outputs": [
    {
     "name": "stdout",
     "output_type": "stream",
     "text": [
      "1/1 [==============================] - 0s 25ms/step\n"
     ]
    },
    {
     "data": {
      "text/plain": [
       "array([9, 2, 1], dtype=int64)"
      ]
     },
     "execution_count": 56,
     "metadata": {},
     "output_type": "execute_result"
    }
   ],
   "source": [
    "y_pred=np.argmax(model.predict(x_new),axis=1)\n",
    "y_pred"
   ]
  },
  {
   "cell_type": "code",
   "execution_count": 54,
   "id": "7d9deece",
   "metadata": {},
   "outputs": [
    {
     "data": {
      "text/plain": [
       "array(['Ankle boot', 'Pullover', 'Trouser'], dtype='<U11')"
      ]
     },
     "execution_count": 54,
     "metadata": {},
     "output_type": "execute_result"
    }
   ],
   "source": [
    " np.array(class_names)[y_pred]"
   ]
  },
  {
   "cell_type": "code",
   "execution_count": 57,
   "id": "858b6dc4",
   "metadata": {},
   "outputs": [
    {
     "name": "stdout",
     "output_type": "stream",
     "text": [
      "AxesImage(54,36;334.8x217.44)\n"
     ]
    },
    {
     "data": {
      "image/png": "[encoded data removed]",
      "text/plain": [
       "<Figure size 432x288 with 1 Axes>"
      ]
     },
     "metadata": {
      "needs_background": "light"
     },
     "output_type": "display_data"
    }
   ],
   "source": [
    "print(plt.imshow(x_test[0]))"
   ]
  },
  {
   "cell_type": "code",
   "execution_count": 58,
   "id": "79e1504b",
   "metadata": {},
   "outputs": [
    {
     "name": "stdout",
     "output_type": "stream",
     "text": [
      "AxesImage(54,36;334.8x217.44)\n"
     ]
    },
    {
     "data": {
      "image/png": "[encoded data removed]",
      "text/plain": [
       "<Figure size 432x288 with 1 Axes>"
      ]
     },
     "metadata": {
      "needs_background": "light"
     },
     "output_type": "display_data"
    }
   ],
   "source": [
    "print(plt.imshow(x_test[1]))"
   ]
  },
  {
   "cell_type": "code",
   "execution_count": 59,
   "id": "3fbfd86e",
   "metadata": {},
   "outputs": [
    {
     "name": "stdout",
     "output_type": "stream",
     "text": [
      "AxesImage(54,36;334.8x217.44)\n"
     ]
    },
    {
     "data": {
      "image/png": "[encoded data removed]",
      "text/plain": [
       "<Figure size 432x288 with 1 Axes>"
      ]
     },
     "metadata": {
      "needs_background": "light"
     },
     "output_type": "display_data"
    }
   ],
   "source": [
    "print(plt.imshow(x_test[2]))"
   ]
  },
  {
   "cell_type": "code",
   "execution_count": null,
   "id": "15ef4d85",
   "metadata": {},
   "outputs": [],
   "source": []
  },
  {
   "cell_type": "code",
   "execution_count": null,
   "id": "073a5126",
   "metadata": {},
   "outputs": [],
   "source": []
  }
 ],
 "metadata": {
  "kernelspec": {
   "display_name": "Python 3 (ipykernel)",
   "language": "python",
   "name": "python3"
  },
  "language_info": {
   "codemirror_mode": {
    "name": "ipython",
    "version": 3
   },
   "file_extension": ".py",
   "mimetype": "text/x-python",
   "name": "python",
   "nbconvert_exporter": "python",
   "pygments_lexer": "ipython3",
   "version": "3.9.12"
  }
 },
 "nbformat": 4,
 "nbformat_minor": 5
}
